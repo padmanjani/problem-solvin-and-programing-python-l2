{
 "cells": [
  {
   "cell_type": "markdown",
   "metadata": {},
   "source": [
    "###MARKDOWN BASIC\n",
    "* **BOLD**\n",
    "* *ITALIC*\n",
    "* ***IB***\n",
    "*NORMAL TEXT\n",
    " *SUBLIST 1\n",
    " *SUBLIST 2\n",
    " \n",
    " \n",
    " \n",
    "1.Ordered list element 1 \n",
    "2.Ordered list element 2\n",
    "\n",
    "\n",
    "\n",
    "\n",
    "-[  ] option 1\n",
    "-[  ] option 2\n",
    "-[  ] option 3\n",
    "\n",
    "\n",
    "\n",
    "[jupyter logo](a.png)\n",
    "\n",
    "![jupyter logo](a.png)\n",
    "<imp src=\"jupyter logo.png\" style=\"float:left\">"
   ]
  },
  {
   "cell_type": "markdown",
   "metadata": {},
   "source": [
    "### PYTHON BASIC"
   ]
  },
  {
   "cell_type": "code",
   "execution_count": null,
   "metadata": {},
   "outputs": [],
   "source": [
    "PYTHON VERSION 3.7\n",
    "SCRIPT\n",
    "Object oriented\n",
    "functional"
   ]
  },
  {
   "cell_type": "code",
   "execution_count": 1,
   "metadata": {},
   "outputs": [
    {
     "name": "stdout",
     "output_type": "stream",
     "text": [
      "good afternoon anju !welcome to python training\n"
     ]
    }
   ],
   "source": [
    "#  python comments\n",
    "\n",
    "print(\"good afternoon\",\"anju !\",end=\"\")# basic output\n",
    "print(\"welcome to python training\")"
   ]
  },
  {
   "cell_type": "markdown",
   "metadata": {},
   "source": [
    "### Assignments"
   ]
  },
  {
   "cell_type": "code",
   "execution_count": 2,
   "metadata": {},
   "outputs": [
    {
     "name": "stdout",
     "output_type": "stream",
     "text": [
      "123 234 345\n"
     ]
    }
   ],
   "source": [
    "n1=123456 #single variable assignment\n",
    "n2 = n3 =n1 #Multi variable assignment \n",
    "a,b,c =123,234,345 #Multi variable assignment with differant values\n",
    "print (a,b,c)"
   ]
  },
  {
   "cell_type": "code",
   "execution_count": null,
   "metadata": {},
   "outputs": [],
   "source": []
  },
  {
   "cell_type": "markdown",
   "metadata": {},
   "source": [
    "### data type"
   ]
  },
  {
   "cell_type": "code",
   "execution_count": null,
   "metadata": {},
   "outputs": [],
   "source": [
    "\n",
    "- int\n",
    "- float\n",
    "- string\n",
    "- double"
   ]
  },
  {
   "cell_type": "code",
   "execution_count": 5,
   "metadata": {},
   "outputs": [
    {
     "data": {
      "text/plain": [
       "12.0"
      ]
     },
     "execution_count": 5,
     "metadata": {},
     "output_type": "execute_result"
    }
   ],
   "source": [
    "    type(a)\n",
    "    s1=\"python\"\n",
    "    type(s1)\n",
    "    \n",
    "    f1=12.345\n",
    "    type(f1)\n",
    "    \n",
    "    float(str(int(f1)))\n",
    "    "
   ]
  },
  {
   "cell_type": "markdown",
   "metadata": {},
   "source": [
    "### arithmatic operations\n",
    "-\n",
    "+\n",
    "=\n",
    "/\n",
    "%\n",
    "**\n"
   ]
  },
  {
   "cell_type": "code",
   "execution_count": 8,
   "metadata": {},
   "outputs": [
    {
     "data": {
      "text/plain": [
       "int"
      ]
     },
     "execution_count": 8,
     "metadata": {},
     "output_type": "execute_result"
    }
   ],
   "source": [
    "n1%11\n",
    "n3 = n2 ** 2\n",
    "type(n3)\n",
    "#len(str(n3))\n",
    "atoms =10 ** 82\n",
    "type(n3)\n",
    "#len(str(atoms))\n",
    "type(atoms)"
   ]
  },
  {
   "cell_type": "code",
   "execution_count": 6,
   "metadata": {},
   "outputs": [],
   "source": []
  },
  {
   "cell_type": "code",
   "execution_count": 7,
   "metadata": {},
   "outputs": [
    {
     "data": {
      "text/plain": [
       "2"
      ]
     },
     "execution_count": 7,
     "metadata": {},
     "output_type": "execute_result"
    }
   ],
   "source": []
  },
  {
   "cell_type": "markdown",
   "metadata": {},
   "source": [
    "## conditionals"
   ]
  },
  {
   "cell_type": "code",
   "execution_count": 17,
   "metadata": {},
   "outputs": [
    {
     "name": "stdout",
     "output_type": "stream",
     "text": [
      "true\n"
     ]
    }
   ],
   "source": [
    "if atoms <10 ** 90:\n",
    "    print(\"true\")\n",
    "else:\n",
    "    print(\"false\")\n",
    "\n"
   ]
  },
  {
   "cell_type": "code",
   "execution_count": 4,
   "metadata": {},
   "outputs": [
    {
     "name": "stdout",
     "output_type": "stream",
     "text": [
      "Even\n"
     ]
    }
   ],
   "source": [
    "#check if a number is even\n",
    "\n",
    "n = 8\n",
    "if n%2==0:\n",
    "    print(\"Even\")\n",
    "else:\n",
    "    print(\"odd\")\n",
    "    "
   ]
  },
  {
   "cell_type": "code",
   "execution_count": 23,
   "metadata": {},
   "outputs": [
    {
     "name": "stdout",
     "output_type": "stream",
     "text": [
      "enter the first number2\n",
      "enter the second number4\n",
      "enter the third number6\n",
      "6 is the greatest\n"
     ]
    }
   ],
   "source": [
    "# find the greatest of 3 numbers\n",
    "\n",
    "n1 = input (\"enter the first number\")\n",
    "n2 = input (\"enter the second number\")\n",
    "n3 = input (\"enter the third number\")\n",
    "\n",
    "if n1 > n2 and n1 > n3:\n",
    "    print (n1, \"is the greatest\")\n",
    "elif n2 > n3:\n",
    "    print(n2, \"is the graetesr\")\n",
    "else:\n",
    "    print(n3,\"is the greatest\")"
   ]
  },
  {
   "cell_type": "code",
   "execution_count": 8,
   "metadata": {},
   "outputs": [
    {
     "name": "stdout",
     "output_type": "stream",
     "text": [
      "enter not a leap year\n"
     ]
    }
   ],
   "source": [
    "#check if an year is a leap year\n",
    "n=1234\n",
    "if year % 400 == 0 or (year % 100 != 0 and year % 4 == 0):\n",
    "\n",
    "    print(\"enter year  is leap year\")\n",
    "else:\n",
    "    print(\"enter not a leap year\")\n",
    "\n",
    "\n"
   ]
  },
  {
   "cell_type": "code",
   "execution_count": 10,
   "metadata": {},
   "outputs": [
    {
     "name": "stdout",
     "output_type": "stream",
     "text": [
      "enter no4\n",
      "enter a6\n",
      "enter b8\n",
      "no\n"
     ]
    }
   ],
   "source": [
    "#check if  a number exists in a given range (inclusive )\n",
    "\n",
    "n1 =10\n",
    "lb =4\n",
    "ub =6\n",
    "\n",
    "n = int(input(\"enter no\"))\n",
    "a = int(input(\"enter a\"))\n",
    "b = int(input(\"enter b\"))\n",
    "if n in range (a,b):\n",
    "    print(\"yes\")\n",
    "else:\n",
    "    print(\"no\")"
   ]
  },
  {
   "cell_type": "code",
   "execution_count": 11,
   "metadata": {},
   "outputs": [
    {
     "name": "stdout",
     "output_type": "stream",
     "text": [
      "enter no2\n",
      "1\n"
     ]
    }
   ],
   "source": [
    "#calculate the number of digits in a number \n",
    "n =input(\"enter no\")\n",
    "c = 0\n",
    "for i in n:\n",
    "    if i.isdigit():\n",
    "        c=c+1\n",
    "        print(c)\n",
    "        "
   ]
  },
  {
   "cell_type": "code",
   "execution_count": 13,
   "metadata": {},
   "outputs": [
    {
     "name": "stdout",
     "output_type": "stream",
     "text": [
      "enter no10\n",
      "10 * 1 10\n",
      "10 * 2 20\n",
      "10 * 3 30\n",
      "10 * 4 40\n",
      "10 * 5 50\n",
      "10 * 6 60\n",
      "10 * 7 70\n",
      "10 * 8 80\n",
      "10 * 9 90\n",
      "10 * 10 100\n"
     ]
    }
   ],
   "source": [
    "# check if a number is a multiple of 10 \n",
    "n = int (input(\"enter no\"))\n",
    "for i in range (1,11):\n",
    "    print(n,\"*\",i,n*i)"
   ]
  },
  {
   "cell_type": "code",
   "execution_count": 14,
   "metadata": {},
   "outputs": [
    {
     "ename": "SyntaxError",
     "evalue": "invalid syntax (<ipython-input-14-1b117fbd13a7>, line 1)",
     "output_type": "error",
     "traceback": [
      "\u001b[1;36m  File \u001b[1;32m\"<ipython-input-14-1b117fbd13a7>\"\u001b[1;36m, line \u001b[1;32m1\u001b[0m\n\u001b[1;33m    check if a number is a faccor of 100\u001b[0m\n\u001b[1;37m                    ^\u001b[0m\n\u001b[1;31mSyntaxError\u001b[0m\u001b[1;31m:\u001b[0m invalid syntax\n"
     ]
    }
   ],
   "source": [
    "check if a number is a faccor of 100\n",
    "n = int(input(\"enter no\"))\n",
    "if 1000 % n == 0:\n",
    "    print(\"yes it is a factor\")\n",
    "else:\n",
    "    print(\"not factor \")"
   ]
  },
  {
   "cell_type": "code",
   "execution_count": null,
   "metadata": {},
   "outputs": [],
   "source": [
    "# check if a given string is equal to a number  "
   ]
  },
  {
   "cell_type": "code",
   "execution_count": 2,
   "metadata": {},
   "outputs": [
    {
     "data": {
      "text/plain": [
       "11.090536506409418"
      ]
     },
     "execution_count": 2,
     "metadata": {},
     "output_type": "execute_result"
    }
   ],
   "source": [
    "# culate the square root of a number without function\n",
    "n1 = 123\n",
    "n1 ** 0.5"
   ]
  },
  {
   "cell_type": "code",
   "execution_count": 2,
   "metadata": {},
   "outputs": [
    {
     "name": "stdout",
     "output_type": "stream",
     "text": [
      "525600000000000\n"
     ]
    }
   ],
   "source": [
    "# caliculate the number of micro seconds in a\n",
    "# given year (considering leap year logic )\n",
    "year = 2019\n",
    "if year % 400 == 0 or (year % 100 != 0 and year % 4 == 0):\n",
    "    print(366 * 24 * 60 *(10**9))\n",
    "else:\n",
    "    print(365 * 24 *60 *(10**9))\n"
   ]
  },
  {
   "cell_type": "code",
   "execution_count": null,
   "metadata": {},
   "outputs": [],
   "source": [
    "# "
   ]
  },
  {
   "cell_type": "code",
   "execution_count": null,
   "metadata": {},
   "outputs": [],
   "source": []
  }
 ],
 "metadata": {
  "kernelspec": {
   "display_name": "Python 3",
   "language": "python",
   "name": "python3"
  },
  "language_info": {
   "codemirror_mode": {
    "name": "ipython",
    "version": 3
   },
   "file_extension": ".py",
   "mimetype": "text/x-python",
   "name": "python",
   "nbconvert_exporter": "python",
   "pygments_lexer": "ipython3",
   "version": "3.7.3"
  }
 },
 "nbformat": 4,
 "nbformat_minor": 2
}
