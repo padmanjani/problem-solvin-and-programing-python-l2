{
 "cells": [
  {
   "cell_type": "code",
   "execution_count": null,
   "metadata": {},
   "outputs": [],
   "source": [
    "### problem solving and programing\n",
    "DAY   OBJECTIVES\n",
    "STRING  slicing \n",
    "Functions  in python\n",
    "basic problems in python related to conditional statements using functiontuples and dictionaries\n",
    "iteration in python\n",
    "problem solving in python with some examples\n",
    "\n"
   ]
  },
  {
   "cell_type": "code",
   "execution_count": null,
   "metadata": {},
   "outputs": [],
   "source": [
    "\n"
   ]
  },
  {
   "cell_type": "markdown",
   "metadata": {},
   "source": [
    "### string slicing"
   ]
  },
  {
   "cell_type": "code",
   "execution_count": 14,
   "metadata": {},
   "outputs": [
    {
     "data": {
      "text/plain": [
       "'nhy'"
      ]
     },
     "execution_count": 14,
     "metadata": {},
     "output_type": "execute_result"
    }
   ],
   "source": [
    "s1 =\"python\"\n",
    "\n",
    "s1[0]#first character\n",
    "s1[1]#second character\n",
    "s1[-1]#last character\n",
    "\n",
    "s1[len(s1)-1]#accessing the last character\n",
    "s1[-2]#last butone character\n",
    "\n",
    "\n",
    "s1[0:2]#first 2 character\n",
    "s1[-2:]#accessing last character of string\n",
    "s1[4:]#accesing all characters 5th character to end of string\n",
    "\n",
    "\n",
    "s1[1:-1]#accesing all character expect first and last\n",
    "s1[1:5]#countable string\n",
    "s1[len(s1)//2]#access the middle character\n",
    "s1[-1::-1]#reverse of a string\n",
    "s1[-1:-3:-1]#accessing last two character\n",
    "s1[len(s1)//2:len(s1)//2-2-1]#reverse the middle character\n",
    "s1[::2]#access alternate character\n",
    "s1[::-2]#access reverse of alternate character"
   ]
  },
  {
   "cell_type": "code",
   "execution_count": 15,
   "metadata": {},
   "outputs": [
    {
     "data": {
      "text/plain": [
       "'nohtyp'"
      ]
     },
     "execution_count": 15,
     "metadata": {},
     "output_type": "execute_result"
    }
   ],
   "source": [
    "#function to reverse a string\n",
    "def reversestring(s):\n",
    "    return s[::-1]\n",
    "\n",
    "reversestring (\"python\")"
   ]
  },
  {
   "cell_type": "code",
   "execution_count": 25,
   "metadata": {},
   "outputs": [
    {
     "data": {
      "text/plain": [
       "True"
      ]
     },
     "execution_count": 25,
     "metadata": {},
     "output_type": "execute_result"
    }
   ],
   "source": [
    "#function to check if a string a palindrome\n",
    "def palindrome(s):\n",
    "    if s == s[::-1]:\n",
    "        return True\n",
    "    else:\n",
    "        return False\n",
    "palindrome (\"racecar\")"
   ]
  },
  {
   "cell_type": "code",
   "execution_count": 39,
   "metadata": {},
   "outputs": [
    {
     "data": {
      "text/plain": [
       "False"
      ]
     },
     "execution_count": 39,
     "metadata": {},
     "output_type": "execute_result"
    }
   ],
   "source": [
    "#function to check if an year is a leap year\n",
    "def isleapyear(year):\n",
    "    if year % 400 == 0 or (year % 100 != 0 and year % 4 == 0):\n",
    "        return True\n",
    "    else:\n",
    "        return False\n",
    "\n",
    "\n",
    "isleapyear(2017)"
   ]
  },
  {
   "cell_type": "code",
   "execution_count": 40,
   "metadata": {},
   "outputs": [
    {
     "data": {
      "text/plain": [
       "5"
      ]
     },
     "execution_count": 40,
     "metadata": {},
     "output_type": "execute_result"
    }
   ],
   "source": [
    "#function to identify the number of digits in a given number\n",
    "\n",
    "def countdigit(n):\n",
    "    return len(str(n))\n",
    "\n",
    "\n",
    "countdigit(13456)"
   ]
  },
  {
   "cell_type": "code",
   "execution_count": null,
   "metadata": {},
   "outputs": [],
   "source": [
    "#FUNCTION TO COUNT THE NUMBER OF DIGITS IN A GIVEN NUMBER \n",
    "def greatest4(n1,n2,n3,n4):\n",
    "    if n1 > n2 and n1 > n4:\n",
    "        return n1\n",
    "    elif:\n",
    "        "
   ]
  },
  {
   "cell_type": "code",
   "execution_count": null,
   "metadata": {},
   "outputs": [],
   "source": [
    "### ITERATION\n",
    "  FOR\n",
    "  WHILE"
   ]
  },
  {
   "cell_type": "code",
   "execution_count": 43,
   "metadata": {},
   "outputs": [
    {
     "name": "stdout",
     "output_type": "stream",
     "text": [
      "123456789101112131415161718192021222324252627282930"
     ]
    }
   ],
   "source": [
    "#FUNCTION TO PRINT N NUMBERS\n",
    "\n",
    "def printNnaturalnumbers(n):\n",
    "    for counter in range(1, n+1):\n",
    "        print(counter, end=\"\")\n",
    "    return\n",
    "\n",
    "\n",
    "printNnaturalnumbers(30)\n"
   ]
  },
  {
   "cell_type": "code",
   "execution_count": 6,
   "metadata": {},
   "outputs": [
    {
     "name": "stdout",
     "output_type": "stream",
     "text": [
      "1 2 3 4 5 6 7 8 9 10 11 12 13 14 15 16 17 18 19 20 21 22 23 24 25 26 27 28 29 30 \n",
      "1 2 3 4 5 6 7 8 9 10 \n"
     ]
    }
   ],
   "source": [
    "#functusingion to print N natural numbers using \n",
    "\n",
    "def nNaturalnumbers(n):\n",
    "    for counter in range(1, n+1):\n",
    "        print(counter, end=\" \")\n",
    "    print()\n",
    "    return\n",
    "\n",
    "\n",
    "nNaturalnumbers(30)\n",
    "nNaturalnumbers(10)"
   ]
  },
  {
   "cell_type": "code",
   "execution_count": null,
   "metadata": {},
   "outputs": [],
   "source": [
    "#function to print all numbers divisible by 6 \n",
    "#and not a factor of 100 in a given range (lb ,ub ) inclusive\n",
    "\n",
    "\n",
    "\n",
    "\n",
    "def divisible6(lb, ub+1):\n",
    "    \n",
    "    \n"
   ]
  },
  {
   "cell_type": "code",
   "execution_count": null,
   "metadata": {},
   "outputs": [],
   "source": [
    "#function to generate the list of factors for a given number\n",
    "#12 ->1 2 3 4 6 12\n",
    "\n",
    "\n",
    "def avgcubeeven(lb, ub):\n",
    "    sum = 0\n",
    "    for i in range (lb, ub+1):\n",
    "        if i % 2 == 0:\n",
    "            sum += i ** 3\n",
    "            count += 1\n",
    "    return sum/count\n"
   ]
  },
  {
   "cell_type": "code",
   "execution_count": null,
   "metadata": {},
   "outputs": [],
   "source": [
    "#functions to calculate the factorial of a given number "
   ]
  },
  {
   "cell_type": "code",
   "execution_count": 3,
   "metadata": {},
   "outputs": [
    {
     "data": {
      "text/plain": [
       "True"
      ]
     },
     "execution_count": 3,
     "metadata": {},
     "output_type": "execute_result"
    }
   ],
   "source": [
    "#function to check if a given number is prime\n",
    "\n",
    "def isprime(n):\n",
    "    flag = True\n",
    "    for i in range (2, n//2):\n",
    "        if n % i == 0:\n",
    "            flag = False\n",
    "            return flag\n",
    "        return flag\n",
    "    \n",
    "isprime(17)"
   ]
  },
  {
   "cell_type": "code",
   "execution_count": 5,
   "metadata": {},
   "outputs": [
    {
     "data": {
      "text/plain": [
       "0.0"
      ]
     },
     "execution_count": 5,
     "metadata": {},
     "output_type": "execute_result"
    }
   ],
   "source": [
    "#function to calculate the average first N prime numbers\n",
    "\n",
    "def avgNprimes(n):\n",
    "    primecount = 0\n",
    "    sum = 0\n",
    "    seqCount = 2\n",
    "    while(primecount < n):\n",
    "        if isprime(seqCount):\n",
    "            primecount +=1\n",
    "            sum += seqcount\n",
    "        seqCount += 1\n",
    "        return sum/n\n",
    "    \n",
    "    \n",
    "avgNprimes(10)\n",
    "        "
   ]
  },
  {
   "cell_type": "code",
   "execution_count": 1,
   "metadata": {},
   "outputs": [],
   "source": [
    "#function to generate all prime numbers in a given range\n",
    "\n"
   ]
  },
  {
   "cell_type": "code",
   "execution_count": 2,
   "metadata": {},
   "outputs": [
    {
     "ename": "SyntaxError",
     "evalue": "invalid syntax (<ipython-input-2-ace4cbafe193>, line 7)",
     "output_type": "error",
     "traceback": [
      "\u001b[1;36m  File \u001b[1;32m\"<ipython-input-2-ace4cbafe193>\"\u001b[1;36m, line \u001b[1;32m7\u001b[0m\n\u001b[1;33m    def alternatevalue(start, end+1, 4):\u001b[0m\n\u001b[1;37m                                 ^\u001b[0m\n\u001b[1;31mSyntaxError\u001b[0m\u001b[1;31m:\u001b[0m invalid syntax\n"
     ]
    }
   ],
   "source": [
    "#function to print the alternate values in a range\n",
    "#[500,550] -> 500 502 504 ............ 550\n",
    "#(500,550) -> 501 503 505  ............ 549\n",
    "#range (500,550) -> 500 501 502 ....... 549\n",
    "#all set based function in a python have start\n",
    "\n",
    "def alternatevalue(start, end+1, 4):\n",
    "    for value in range (start, end+1, 4):\n",
    "        print(value,end=\" \")\n",
    "    return\n",
    "alternatevalue(500, 524)"
   ]
  },
  {
   "cell_type": "code",
   "execution_count": 6,
   "metadata": {},
   "outputs": [
    {
     "name": "stdout",
     "output_type": "stream",
     "text": [
      "9 7 5 3 1 "
     ]
    }
   ],
   "source": [
    "#function to print reverse of given range in the numbers and odd numbers\n",
    "\n",
    "def reverseRangeodd(start,end):\n",
    "    for value in range(end, start-1,-1):\n",
    "        if value % 2!= 0:\n",
    "            print(value, end=\" \")\n",
    "    return\n",
    "reverseRangeodd(1, 10)"
   ]
  },
  {
   "cell_type": "code",
   "execution_count": 14,
   "metadata": {},
   "outputs": [
    {
     "name": "stdout",
     "output_type": "stream",
     "text": [
      "3\n"
     ]
    }
   ],
   "source": [
    "def printvalues(a,b):\n",
    "    count=0\n",
    "    sums=0\n",
    "    for i in range(a,b+1):\n",
    "        count=count+1\n",
    "        sums=sums+i\n",
    "    print(sums//count)\n",
    "printvalues(1,5)\n"
   ]
  },
  {
   "cell_type": "code",
   "execution_count": null,
   "metadata": {},
   "outputs": [],
   "source": [
    "#Function to calculate the average of a given range\n",
    "#(1,5)->3\n",
    "        "
   ]
  },
  {
   "cell_type": "code",
   "execution_count": 21,
   "metadata": {},
   "outputs": [
    {
     "ename": "NameError",
     "evalue": "name 'year' is not defined",
     "output_type": "error",
     "traceback": [
      "\u001b[1;31m---------------------------------------------------------------------------\u001b[0m",
      "\u001b[1;31mNameError\u001b[0m                                 Traceback (most recent call last)",
      "\u001b[1;32m<ipython-input-21-06e6fdfb4cb9>\u001b[0m in \u001b[0;36m<module>\u001b[1;34m\u001b[0m\n\u001b[0;32m     12\u001b[0m             \u001b[0mprint\u001b[0m\u001b[1;33m(\u001b[0m\u001b[0ma\u001b[0m\u001b[1;33m,\u001b[0m \u001b[0mb\u001b[0m\u001b[1;33m=\u001b[0m\u001b[1;34m\" \"\u001b[0m\u001b[1;33m)\u001b[0m\u001b[1;33m\u001b[0m\u001b[1;33m\u001b[0m\u001b[0m\n\u001b[0;32m     13\u001b[0m     \u001b[1;32mreturn\u001b[0m\u001b[1;33m\u001b[0m\u001b[1;33m\u001b[0m\u001b[0m\n\u001b[1;32m---> 14\u001b[1;33m \u001b[0mgenerateleapyearingiven\u001b[0m\u001b[1;33m(\u001b[0m\u001b[1;36m2000\u001b[0m\u001b[1;33m,\u001b[0m \u001b[1;36m2020\u001b[0m\u001b[1;33m)\u001b[0m\u001b[1;33m\u001b[0m\u001b[1;33m\u001b[0m\u001b[0m\n\u001b[0m",
      "\u001b[1;32m<ipython-input-21-06e6fdfb4cb9>\u001b[0m in \u001b[0;36mgenerateleapyearingiven\u001b[1;34m(a, b)\u001b[0m\n\u001b[0;32m      9\u001b[0m \u001b[1;32mdef\u001b[0m \u001b[0mgenerateleapyearingiven\u001b[0m\u001b[1;33m(\u001b[0m\u001b[0ma\u001b[0m\u001b[1;33m,\u001b[0m\u001b[0mb\u001b[0m\u001b[1;33m)\u001b[0m\u001b[1;33m:\u001b[0m\u001b[1;33m\u001b[0m\u001b[1;33m\u001b[0m\u001b[0m\n\u001b[0;32m     10\u001b[0m     \u001b[1;32mfor\u001b[0m \u001b[0mi\u001b[0m \u001b[1;32min\u001b[0m \u001b[0mrange\u001b[0m\u001b[1;33m(\u001b[0m\u001b[0ma\u001b[0m\u001b[1;33m,\u001b[0m\u001b[0mb\u001b[0m\u001b[1;33m+\u001b[0m\u001b[1;36m1\u001b[0m\u001b[1;33m)\u001b[0m\u001b[1;33m:\u001b[0m\u001b[1;33m\u001b[0m\u001b[1;33m\u001b[0m\u001b[0m\n\u001b[1;32m---> 11\u001b[1;33m         \u001b[1;32mif\u001b[0m \u001b[0mleapyearingiven\u001b[0m\u001b[1;33m(\u001b[0m\u001b[0myear\u001b[0m\u001b[1;33m)\u001b[0m\u001b[1;33m:\u001b[0m\u001b[1;33m\u001b[0m\u001b[1;33m\u001b[0m\u001b[0m\n\u001b[0m\u001b[0;32m     12\u001b[0m             \u001b[0mprint\u001b[0m\u001b[1;33m(\u001b[0m\u001b[0ma\u001b[0m\u001b[1;33m,\u001b[0m \u001b[0mb\u001b[0m\u001b[1;33m=\u001b[0m\u001b[1;34m\" \"\u001b[0m\u001b[1;33m)\u001b[0m\u001b[1;33m\u001b[0m\u001b[1;33m\u001b[0m\u001b[0m\n\u001b[0;32m     13\u001b[0m     \u001b[1;32mreturn\u001b[0m\u001b[1;33m\u001b[0m\u001b[1;33m\u001b[0m\u001b[0m\n",
      "\u001b[1;31mNameError\u001b[0m: name 'year' is not defined"
     ]
    }
   ],
   "source": [
    "#function to generate all leap years in a given time period\n",
    "#[2000, 2020]-> 2000 2004 2008 2012 2016 2020\n",
    "\n",
    "def leapyearingiven(year):\n",
    "    if year % 400 == 0 or (year % 400 == 0 and year % 100 != 0):\n",
    "        return True\n",
    "    return False\n",
    "\n",
    "def generateleapyearingiven(a,b):\n",
    "    for i in range(a,b+1):\n",
    "        if leapyearingiven(year):\n",
    "            print(year, b=\" \")\n",
    "    return\n",
    "generateleapyearingiven(2000, 2020)"
   ]
  },
  {
   "cell_type": "code",
   "execution_count": 24,
   "metadata": {},
   "outputs": [
    {
     "ename": "NameError",
     "evalue": "name 'numberofdarys' is not defined",
     "output_type": "error",
     "traceback": [
      "\u001b[1;31m---------------------------------------------------------------------------\u001b[0m",
      "\u001b[1;31mNameError\u001b[0m                                 Traceback (most recent call last)",
      "\u001b[1;32m<ipython-input-24-01ea94fa23ef>\u001b[0m in \u001b[0;36m<module>\u001b[1;34m\u001b[0m\n\u001b[0;32m      8\u001b[0m             \u001b[0msum\u001b[0m \u001b[1;33m=\u001b[0m \u001b[0msum\u001b[0m \u001b[1;33m+\u001b[0m \u001b[1;36m366\u001b[0m\u001b[1;33m\u001b[0m\u001b[1;33m\u001b[0m\u001b[0m\n\u001b[0;32m      9\u001b[0m         \u001b[1;32mreturn\u001b[0m \u001b[0msum\u001b[0m\u001b[1;33m\u001b[0m\u001b[1;33m\u001b[0m\u001b[0m\n\u001b[1;32m---> 10\u001b[1;33m \u001b[0mnumberofdarys\u001b[0m\u001b[1;33m(\u001b[0m\u001b[1;36m2000\u001b[0m\u001b[1;33m,\u001b[0m \u001b[1;36m2020\u001b[0m\u001b[1;33m)\u001b[0m\u001b[1;33m\u001b[0m\u001b[1;33m\u001b[0m\u001b[0m\n\u001b[0m\u001b[0;32m     11\u001b[0m \u001b[1;33m\u001b[0m\u001b[0m\n",
      "\u001b[1;31mNameError\u001b[0m: name 'numberofdarys' is not defined"
     ]
    }
   ],
   "source": [
    "#function to calculate number of days in a time period using \n",
    "def numberofdays(startyear,endyear):\n",
    "    sum=0\n",
    "    for year in range(startyear, endyear+1):\n",
    "        if isleapyear(year):\n",
    "            sum = sum + 366\n",
    "        else:\n",
    "            sum = sum + 366\n",
    "        return sum\n",
    "numberofdarys()\n",
    "    "
   ]
  },
  {
   "cell_type": "code",
   "execution_count": null,
   "metadata": {
    "collapsed": true
   },
   "outputs": [],
   "source": [
    "#function to calculate number of hours for a given period\n",
    "#number of hours (11,1975,33,1999)->\n"
   ]
  }
 ],
 "metadata": {
  "kernelspec": {
   "display_name": "Python 3",
   "language": "python",
   "name": "python3"
  },
  "language_info": {
   "codemirror_mode": {
    "name": "ipython",
    "version": 3
   },
   "file_extension": ".py",
   "mimetype": "text/x-python",
   "name": "python",
   "nbconvert_exporter": "python",
   "pygments_lexer": "ipython3",
   "version": "3.7.3"
  }
 },
 "nbformat": 4,
 "nbformat_minor": 2
}
