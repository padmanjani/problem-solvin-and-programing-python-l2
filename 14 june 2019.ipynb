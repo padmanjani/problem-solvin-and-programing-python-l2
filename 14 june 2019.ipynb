{
 "cells": [
  {
   "cell_type": "markdown",
   "metadata": {},
   "source": [
    "### problem solving nad programing in python\n",
    "\n",
    "\n",
    "\n",
    "### date -14 june 2019\n",
    "\n",
    "\n",
    "### day objectivesPython Data Structures\n",
    "Lists\n",
    "Tuples\n",
    "Dictionaries\n",
    "Basic Problem set on Data Structures\n",
    "Advanced Problem Set\n",
    "Packages and Modules in Python\n",
    "\n",
    "\n",
    "\n"
   ]
  },
  {
   "cell_type": "markdown",
   "metadata": {},
   "source": [
    "### python data structures\n",
    "\n",
    "### lists"
   ]
  },
  {
   "cell_type": "code",
   "execution_count": 54,
   "metadata": {},
   "outputs": [
    {
     "data": {
      "text/plain": [
       "[123, 345, 654]"
      ]
     },
     "execution_count": 54,
     "metadata": {},
     "output_type": "execute_result"
    }
   ],
   "source": [
    "li"
   ]
  },
  {
   "cell_type": "code",
   "execution_count": 58,
   "metadata": {
    "scrolled": false
   },
   "outputs": [
    {
     "data": {
      "text/plain": [
       "654"
      ]
     },
     "execution_count": 58,
     "metadata": {},
     "output_type": "execute_result"
    }
   ],
   "source": [
    " li =[123, 978, 654,]\n",
    "\n",
    "li  #access the entire list\n",
    "\n",
    "li[1]  #access an element with index in a list\n",
    "\n",
    "li[1:] #access all elements from second to last element\n",
    "\n",
    "li = li[::-1]\n",
    "\n",
    "li\n",
    "\n",
    "li[::2] # accessing even index elements\n",
    "\n",
    "li.append(345) #adding anelement to the \n",
    "\n",
    "li\n",
    "\n",
    "\n",
    "li.pop(1)#remove an element from the list\n",
    "\n",
    "li\n",
    "sum(li)#sum of all elements\n",
    "max(li)#max of all elements \n",
    "len(li)#length of the given value \n",
    "sum(li)/len(li)#average of a string \n",
    "sum(li[1::2])/len(li[1::2])#average of numbers in a rreverse order\n",
    "#function to identify the second largest element in a list\n",
    "# sort thlast element e data and select the second\n",
    "#sort the data in reverse order, and select the  second\n",
    "#remove the max element and then get the max of the new\n",
    "\n",
    "\n",
    "def secondlargest(li):\n",
    "    li.sort()\n",
    "    return li[-2]\n",
    "\n",
    "#function that returns the nth largest    \n",
    "def genericlargest(li, n):\n",
    "    li.sort()\n",
    "    if len(li)>=n:\n",
    "        return li[-n]\n",
    "    else:\n",
    "        print(\"out of range\")\n",
    "secondlargest(li)\n",
    "genericlargest(li,1)\n",
    "\n",
    "\n",
    "\n"
   ]
  },
  {
   "cell_type": "code",
   "execution_count": 11,
   "metadata": {},
   "outputs": [
    {
     "name": "stdout",
     "output_type": "stream",
     "text": [
      "4\n"
     ]
    }
   ],
   "source": [
    "#function to search data in a list\n",
    "#search for the key in the list and return the\n",
    "\n",
    "def linearsearch(li,key):\n",
    "    for value in range(0,len(li)):\n",
    "        if li[value] == key:\n",
    "            print(li.index(key))\n",
    "linearsearch([1,2,3,4,5],5)\n",
    "#def linearsearch2(li, key):\n",
    " #   for element in li:\n",
    "  #      if element == key:\n",
    "   #         rnrteturn li.index(element)\n",
    "    #return -1\n"
   ]
  },
  {
   "cell_type": "code",
   "execution_count": 7,
   "metadata": {},
   "outputs": [
    {
     "data": {
      "text/plain": [
       "3"
      ]
     },
     "execution_count": 7,
     "metadata": {},
     "output_type": "execute_result"
    }
   ],
   "source": [
    "#function to count the occurance of a character  in a string\n",
    "def countcharacteroccurances1(string,character):\n",
    "    count =0\n",
    "    for ch in string:\n",
    "        if ch == character:\n",
    "            count += 1\n",
    "    return count\n",
    "#countcharacteroccurances1(\"python programming\", \"m\")\n",
    "#countcharacteroccurances2(\"python programming py\",\"py\")\n",
    "countcharacteroccurances1(\"sasasa\",\"s\")\n",
    "\n"
   ]
  },
  {
   "cell_type": "code",
   "execution_count": null,
   "metadata": {},
   "outputs": [],
   "source": []
  }
 ],
 "metadata": {
  "kernelspec": {
   "display_name": "Python 3",
   "language": "python",
   "name": "python3"
  },
  "language_info": {
   "codemirror_mode": {
    "name": "ipython",
    "version": 3
   },
   "file_extension": ".py",
   "mimetype": "text/x-python",
   "name": "python",
   "nbconvert_exporter": "python",
   "pygments_lexer": "ipython3",
   "version": "3.7.3"
  }
 },
 "nbformat": 4,
 "nbformat_minor": 2
}
